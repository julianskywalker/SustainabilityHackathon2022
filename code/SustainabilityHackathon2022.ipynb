{
 "cells": [
  {
   "cell_type": "code",
   "execution_count": 2,
   "id": "a75ebb42",
   "metadata": {},
   "outputs": [],
   "source": [
    "import pandas as pd\n",
    "import numpy as np"
   ]
  },
  {
   "cell_type": "code",
   "execution_count": 6,
   "id": "005c3bf7",
   "metadata": {},
   "outputs": [],
   "source": [
    "veg_rem_combined = pd.read_csv(r'../data/FW_Veg_Rem_Combined.csv')"
   ]
  },
  {
   "cell_type": "code",
   "execution_count": 8,
   "id": "3f1cf63e",
   "metadata": {},
   "outputs": [
    {
     "name": "stdout",
     "output_type": "stream",
     "text": [
      "Unnamed: 0                             0\n",
      "Unnamed: 0.1                           0\n",
      "fire_name                            NaN\n",
      "fire_size                           10.0\n",
      "fire_size_class                        C\n",
      "stat_cause_descr       Missing/Undefined\n",
      "latitude                       18.105072\n",
      "longitude                     -66.753044\n",
      "state                                 PR\n",
      "disc_clean_date                2/11/2007\n",
      "cont_clean_date                      NaN\n",
      "discovery_month                      Feb\n",
      "disc_date_final                      NaN\n",
      "cont_date_final                      NaN\n",
      "putout_time                          NaN\n",
      "disc_date_pre                  1/12/2007\n",
      "disc_pre_year                       2007\n",
      "disc_pre_month                       Jan\n",
      "wstation_usaf                     785140\n",
      "dstation_m                   58917.69716\n",
      "wstation_wban                      11603\n",
      "wstation_byear                      1945\n",
      "wstation_eyear                      2018\n",
      "Vegetation                            12\n",
      "fire_mag                             1.0\n",
      "weather_file        785140-11603-2007.gz\n",
      "Temp_pre_30                    24.480974\n",
      "Temp_pre_15                    24.716923\n",
      "Temp_pre_7                     24.902597\n",
      "Temp_cont                      24.527961\n",
      "Wind_pre_30                     4.341807\n",
      "Wind_pre_15                     3.492857\n",
      "Wind_pre_7                      3.262092\n",
      "Wind_cont                       3.250413\n",
      "Hum_pre_30                      78.21659\n",
      "Hum_pre_15                      76.79375\n",
      "Hum_pre_7                      76.381579\n",
      "Hum_cont                        78.72437\n",
      "Prec_pre_30                          0.0\n",
      "Prec_pre_15                          0.0\n",
      "Prec_pre_7                           0.0\n",
      "Prec_cont                            0.0\n",
      "remoteness                      0.017923\n",
      "Name: 0, dtype: object\n"
     ]
    }
   ],
   "source": [
    "print(veg_rem_combined.iloc[0])"
   ]
  },
  {
   "cell_type": "code",
   "execution_count": null,
   "id": "5060b4d8",
   "metadata": {},
   "outputs": [],
   "source": [
    "veg_rem_combined."
   ]
  },
  {
   "cell_type": "code",
   "execution_count": null,
   "id": "ea4565bb",
   "metadata": {},
   "outputs": [],
   "source": []
  },
  {
   "cell_type": "code",
   "execution_count": null,
   "id": "8c142dde",
   "metadata": {},
   "outputs": [],
   "source": []
  }
 ],
 "metadata": {
  "kernelspec": {
   "display_name": "Python 3",
   "language": "python",
   "name": "python3"
  },
  "language_info": {
   "codemirror_mode": {
    "name": "ipython",
    "version": 3
   },
   "file_extension": ".py",
   "mimetype": "text/x-python",
   "name": "python",
   "nbconvert_exporter": "python",
   "pygments_lexer": "ipython3",
   "version": "3.8.8"
  }
 },
 "nbformat": 4,
 "nbformat_minor": 5
}
