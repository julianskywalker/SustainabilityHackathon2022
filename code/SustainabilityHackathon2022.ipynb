{
 "cells": [
  {
   "cell_type": "code",
   "execution_count": 2,
   "id": "e60375c9",
   "metadata": {},
   "outputs": [],
   "source": [
    "import pandas as pd\n",
    "import numpy as np\n",
    "\n",
    "from sklearn.ensemble import RandomForestClassifier"
   ]
  },
  {
   "cell_type": "code",
   "execution_count": 9,
   "id": "76ace09b",
   "metadata": {},
   "outputs": [],
   "source": [
    "veg_rem_combined_df = pd.read_csv(r'../data/FW_Veg_Rem_Combined.csv')"
   ]
  },
  {
   "cell_type": "code",
   "execution_count": 12,
   "id": "3e90320c",
   "metadata": {},
   "outputs": [
    {
     "data": {
      "text/plain": [
       "array(['Unnamed: 0', 'Unnamed: 0.1', 'fire_name', 'fire_size',\n",
       "       'fire_size_class', 'stat_cause_descr', 'latitude', 'longitude',\n",
       "       'state', 'disc_clean_date', 'cont_clean_date', 'discovery_month',\n",
       "       'disc_date_final', 'cont_date_final', 'putout_time',\n",
       "       'disc_date_pre', 'disc_pre_year', 'disc_pre_month',\n",
       "       'wstation_usaf', 'dstation_m', 'wstation_wban', 'wstation_byear',\n",
       "       'wstation_eyear', 'Vegetation', 'fire_mag', 'weather_file',\n",
       "       'Temp_pre_30', 'Temp_pre_15', 'Temp_pre_7', 'Temp_cont',\n",
       "       'Wind_pre_30', 'Wind_pre_15', 'Wind_pre_7', 'Wind_cont',\n",
       "       'Hum_pre_30', 'Hum_pre_15', 'Hum_pre_7', 'Hum_cont', 'Prec_pre_30',\n",
       "       'Prec_pre_15', 'Prec_pre_7', 'Prec_cont', 'remoteness'],\n",
       "      dtype=object)"
      ]
     },
     "execution_count": 12,
     "metadata": {},
     "output_type": "execute_result"
    }
   ],
   "source": [
    "veg_rem_combined_df.columns.values"
   ]
  },
  {
   "cell_type": "code",
   "execution_count": 13,
   "id": "66dbc8bc",
   "metadata": {},
   "outputs": [
    {
     "data": {
      "text/plain": [
       "Unnamed: 0                             0\n",
       "Unnamed: 0.1                           0\n",
       "fire_name                            NaN\n",
       "fire_size                           10.0\n",
       "fire_size_class                        C\n",
       "stat_cause_descr       Missing/Undefined\n",
       "latitude                       18.105072\n",
       "longitude                     -66.753044\n",
       "state                                 PR\n",
       "disc_clean_date                2/11/2007\n",
       "cont_clean_date                      NaN\n",
       "discovery_month                      Feb\n",
       "disc_date_final                      NaN\n",
       "cont_date_final                      NaN\n",
       "putout_time                          NaN\n",
       "disc_date_pre                  1/12/2007\n",
       "disc_pre_year                       2007\n",
       "disc_pre_month                       Jan\n",
       "wstation_usaf                     785140\n",
       "dstation_m                   58917.69716\n",
       "wstation_wban                      11603\n",
       "wstation_byear                      1945\n",
       "wstation_eyear                      2018\n",
       "Vegetation                            12\n",
       "fire_mag                             1.0\n",
       "weather_file        785140-11603-2007.gz\n",
       "Temp_pre_30                    24.480974\n",
       "Temp_pre_15                    24.716923\n",
       "Temp_pre_7                     24.902597\n",
       "Temp_cont                      24.527961\n",
       "Wind_pre_30                     4.341807\n",
       "Wind_pre_15                     3.492857\n",
       "Wind_pre_7                      3.262092\n",
       "Wind_cont                       3.250413\n",
       "Hum_pre_30                      78.21659\n",
       "Hum_pre_15                      76.79375\n",
       "Hum_pre_7                      76.381579\n",
       "Hum_cont                        78.72437\n",
       "Prec_pre_30                          0.0\n",
       "Prec_pre_15                          0.0\n",
       "Prec_pre_7                           0.0\n",
       "Prec_cont                            0.0\n",
       "remoteness                      0.017923\n",
       "Name: 0, dtype: object"
      ]
     },
     "execution_count": 13,
     "metadata": {},
     "output_type": "execute_result"
    }
   ],
   "source": [
    "veg_rem_combined_df.iloc[0]"
   ]
  },
  {
   "cell_type": "code",
   "execution_count": null,
   "id": "8a31cff3",
   "metadata": {},
   "outputs": [],
   "source": [
    "fire_df = veg_rem_combined_df.drop(columns=['Unnamed: 0', 'Unnamed: 0.1', ])"
   ]
  },
  {
   "cell_type": "code",
   "execution_count": null,
   "id": "21e2ddd2",
   "metadata": {},
   "outputs": [],
   "source": [
    "veg_rem_combined_df."
   ]
  },
  {
   "cell_type": "code",
   "execution_count": null,
   "id": "048bad92",
   "metadata": {},
   "outputs": [],
   "source": []
  }
 ],
 "metadata": {
  "kernelspec": {
   "display_name": "Python 3",
   "language": "python",
   "name": "python3"
  },
  "language_info": {
   "codemirror_mode": {
    "name": "ipython",
    "version": 3
   },
   "file_extension": ".py",
   "mimetype": "text/x-python",
   "name": "python",
   "nbconvert_exporter": "python",
   "pygments_lexer": "ipython3",
   "version": "3.8.8"
  }
 },
 "nbformat": 4,
 "nbformat_minor": 5
}
